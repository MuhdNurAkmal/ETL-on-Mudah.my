{
  "nbformat": 4,
  "nbformat_minor": 0,
  "metadata": {
    "colab": {
      "provenance": []
    },
    "kernelspec": {
      "name": "python3",
      "display_name": "Python 3"
    },
    "language_info": {
      "name": "python"
    }
  },
  "cells": [
    {
      "cell_type": "markdown",
      "source": [
        "## **ETL (Extract, Transform, Loading) for Mudah.my website**"
      ],
      "metadata": {
        "id": "Tc_f8W7qg4B8"
      }
    },
    {
      "cell_type": "markdown",
      "source": [
        "Group 12 🔽\n",
        "\n",
        "1. Firdanish Rafique bin Mohd Hamid (A182072)\n",
        "2. Nurbalqis Qistina binti Rosli (A181246)\n",
        "3. Muhammad Nur Akmal bin Mohamad Razif (A181765)\n",
        "4. Nur Hazrina Asyikin binti Hamdan (A190375)"
      ],
      "metadata": {
        "id": "lVSFgExo5A2a"
      }
    },
    {
      "cell_type": "markdown",
      "source": [
        "### **(1) Extracting : 8 pt**\n",
        "\n",
        "a. Pick/choose your dataset - make sure it is legal to be scrape.  -1 points\n",
        "\n",
        "b. scrape your data - identify your data attributes.  (at least 1 attribute per member) -   8 points\n",
        "\n",
        "c. AT LEAST 100  or  more record of data are collected.  - 1 points"
      ],
      "metadata": {
        "id": "TLRydTmToGql"
      }
    },
    {
      "cell_type": "code",
      "source": [
        "# Importing all libraries involved\n",
        "import requests\n",
        "import numpy as np\n",
        "import pandas as pd\n",
        "from bs4 import BeautifulSoup\n",
        "from csv import writer"
      ],
      "metadata": {
        "id": "ylr-sy-eaCND"
      },
      "execution_count": null,
      "outputs": []
    },
    {
      "cell_type": "code",
      "source": [
        "with open('mudah_car.csv', 'w', encoding='utf8', newline='') as f:\n",
        "\n",
        "  # Creating header for our dataset\n",
        "  filewriter = writer(f)\n",
        "  header = ['Name', 'Price', 'Condition', 'Mileage', 'Engine_Capacity', 'Region']\n",
        "  filewriter.writerow(header)\n",
        "\n",
        "  # Create a list for every attributes\n",
        "  lst_carname = []\n",
        "  lst_carprice = []\n",
        "  lst_carcond = []\n",
        "  lst_carmileage = []\n",
        "  lst_carengine = []\n",
        "  lst_carregion = []\n",
        "\n",
        "\n",
        "  # Starts finding attributes\n",
        "\n",
        "  for i in range(2):\n",
        "\n",
        "    # Page iterations\n",
        "    i+=1\n",
        "\n",
        "    # The value of i will determine the page number of our url\n",
        "    url = 'https://www.mudah.my/malaysia/cars-for-sale?o=' + str(i)\n",
        "\n",
        "    mudah_page = requests.get(url)\n",
        "    mudah_soup = BeautifulSoup(mudah_page.content, 'html.parser')\n",
        "\n",
        "    div_items = mudah_soup.find_all('div', {'data-testid': True})\n",
        "\n",
        "    for item in div_items:\n",
        "      if 'data-testid' in item.attrs:\n",
        "        if item.attrs['data-testid'].startswith('listing-ad-item-'):\n",
        "\n",
        "          # finding car names\n",
        "          name_tag = item.find('img')\n",
        "          if name_tag and 'alt' in name_tag.attrs:\n",
        "            lst_carname.append(name_tag.attrs['alt'])\n",
        "\n",
        "          # finding car prices\n",
        "          price_tag = item.find('div', string=lambda text: text and 'RM ' in text)\n",
        "          for price in price_tag:\n",
        "            lst_carprice.append(price.string.replace('RM ', '').replace(' ', ''))\n",
        "\n",
        "          # finding car condition\n",
        "          condition_tag = item.find('div', attrs={'title': 'Condition'})\n",
        "          for condition in condition_tag:\n",
        "            if(condition.text != ''):\n",
        "              lst_carcond.append(condition.text)\n",
        "\n",
        "          # finding car mileage\n",
        "          mileage_tag = item.find('div', attrs={'title': 'Mileage'})\n",
        "          for mileage in mileage_tag:\n",
        "            if(mileage.text != ''):\n",
        "              lst_carmileage.append(mileage.text)\n",
        "\n",
        "          # finding engine capacity\n",
        "          engine_tag = item.find('div', attrs={'title': 'Engine capacity'})\n",
        "          for engine in engine_tag:\n",
        "            if(engine.text != ''):\n",
        "              lst_carengine.append(engine.text.replace('cc',''))\n",
        "\n",
        "          # finding region\n",
        "          region_tag = item.find('span', attrs={'title': 'Region'})\n",
        "          for region in region_tag:\n",
        "            if(region.text != ''):\n",
        "              lst_carregion.append(region.text)\n",
        "\n",
        "    car_info = list(zip(lst_carname, lst_carprice, lst_carcond, lst_carmileage, lst_carengine, lst_carregion))\n",
        "    filewriter.writerows(car_info)\n",
        "\n",
        "  f.close()"
      ],
      "metadata": {
        "id": "_Uq75fzYbOmo"
      },
      "execution_count": null,
      "outputs": []
    },
    {
      "cell_type": "markdown",
      "source": [
        "### **(2) Transform - 8 pt**\n",
        "\n",
        "a. perform any necessary data processing - ( at least 4 types of data processing or more if the member in your group more than 4).\n",
        "\n",
        "b. perform any data visualisation ( e.g before and after data cleaning)"
      ],
      "metadata": {
        "id": "1kSKKYXTk9r9"
      }
    },
    {
      "cell_type": "markdown",
      "source": [
        "~ Data Observation ~"
      ],
      "metadata": {
        "id": "_KiIN7XJRI3O"
      }
    },
    {
      "cell_type": "code",
      "source": [
        "df_mudah = pd.read_csv('mudah_car.csv')\n",
        "df_mudah.head()"
      ],
      "metadata": {
        "colab": {
          "base_uri": "https://localhost:8080/",
          "height": 206
        },
        "id": "cKpQ_fhplYzv",
        "outputId": "373e8a73-8164-40b5-a68a-bd035ba2aa60"
      },
      "execution_count": null,
      "outputs": [
        {
          "output_type": "execute_result",
          "data": {
            "text/plain": [
              "                                                Name  Price Condition  \\\n",
              "0     2014-Ford RANGER 2.2 XLT 4WD(A)Kedai/Bank/Cash  56990      Used   \n",
              "1  FULL LOAN Toyota VIOS 1.5 TRD SPORTIVO (A) LEA...  42999      Used   \n",
              "2         FULL LOAN Toyota VIOS 1.5 TRD SPORTIVO (A)  40999      Used   \n",
              "3         FULL LOAN Honda CIVIC 2.0 (A) FULL LEATHER  48999      Used   \n",
              "4      FULL LOAN Nissan X-TRAIL 2.0 (A) LEATHER SEAT  58999      Used   \n",
              "\n",
              "         Mileage  Engine_Capacity    Region  \n",
              "0  75000 - 79999             2198  Selangor  \n",
              "1  95000 - 99999             1497     Johor  \n",
              "2  85000 - 89999             1497     Johor  \n",
              "3  95000 - 99999             1997     Johor  \n",
              "4  85000 - 89999             1997     Johor  "
            ],
            "text/html": [
              "\n",
              "  <div id=\"df-84ffb262-fa8e-4a92-8e77-960f319a4a04\">\n",
              "    <div class=\"colab-df-container\">\n",
              "      <div>\n",
              "<style scoped>\n",
              "    .dataframe tbody tr th:only-of-type {\n",
              "        vertical-align: middle;\n",
              "    }\n",
              "\n",
              "    .dataframe tbody tr th {\n",
              "        vertical-align: top;\n",
              "    }\n",
              "\n",
              "    .dataframe thead th {\n",
              "        text-align: right;\n",
              "    }\n",
              "</style>\n",
              "<table border=\"1\" class=\"dataframe\">\n",
              "  <thead>\n",
              "    <tr style=\"text-align: right;\">\n",
              "      <th></th>\n",
              "      <th>Name</th>\n",
              "      <th>Price</th>\n",
              "      <th>Condition</th>\n",
              "      <th>Mileage</th>\n",
              "      <th>Engine_Capacity</th>\n",
              "      <th>Region</th>\n",
              "    </tr>\n",
              "  </thead>\n",
              "  <tbody>\n",
              "    <tr>\n",
              "      <th>0</th>\n",
              "      <td>2014-Ford RANGER 2.2 XLT 4WD(A)Kedai/Bank/Cash</td>\n",
              "      <td>56990</td>\n",
              "      <td>Used</td>\n",
              "      <td>75000 - 79999</td>\n",
              "      <td>2198</td>\n",
              "      <td>Selangor</td>\n",
              "    </tr>\n",
              "    <tr>\n",
              "      <th>1</th>\n",
              "      <td>FULL LOAN Toyota VIOS 1.5 TRD SPORTIVO (A) LEA...</td>\n",
              "      <td>42999</td>\n",
              "      <td>Used</td>\n",
              "      <td>95000 - 99999</td>\n",
              "      <td>1497</td>\n",
              "      <td>Johor</td>\n",
              "    </tr>\n",
              "    <tr>\n",
              "      <th>2</th>\n",
              "      <td>FULL LOAN Toyota VIOS 1.5 TRD SPORTIVO (A)</td>\n",
              "      <td>40999</td>\n",
              "      <td>Used</td>\n",
              "      <td>85000 - 89999</td>\n",
              "      <td>1497</td>\n",
              "      <td>Johor</td>\n",
              "    </tr>\n",
              "    <tr>\n",
              "      <th>3</th>\n",
              "      <td>FULL LOAN Honda CIVIC 2.0 (A) FULL LEATHER</td>\n",
              "      <td>48999</td>\n",
              "      <td>Used</td>\n",
              "      <td>95000 - 99999</td>\n",
              "      <td>1997</td>\n",
              "      <td>Johor</td>\n",
              "    </tr>\n",
              "    <tr>\n",
              "      <th>4</th>\n",
              "      <td>FULL LOAN Nissan X-TRAIL 2.0 (A) LEATHER SEAT</td>\n",
              "      <td>58999</td>\n",
              "      <td>Used</td>\n",
              "      <td>85000 - 89999</td>\n",
              "      <td>1997</td>\n",
              "      <td>Johor</td>\n",
              "    </tr>\n",
              "  </tbody>\n",
              "</table>\n",
              "</div>\n",
              "      <button class=\"colab-df-convert\" onclick=\"convertToInteractive('df-84ffb262-fa8e-4a92-8e77-960f319a4a04')\"\n",
              "              title=\"Convert this dataframe to an interactive table.\"\n",
              "              style=\"display:none;\">\n",
              "        \n",
              "  <svg xmlns=\"http://www.w3.org/2000/svg\" height=\"24px\"viewBox=\"0 0 24 24\"\n",
              "       width=\"24px\">\n",
              "    <path d=\"M0 0h24v24H0V0z\" fill=\"none\"/>\n",
              "    <path d=\"M18.56 5.44l.94 2.06.94-2.06 2.06-.94-2.06-.94-.94-2.06-.94 2.06-2.06.94zm-11 1L8.5 8.5l.94-2.06 2.06-.94-2.06-.94L8.5 2.5l-.94 2.06-2.06.94zm10 10l.94 2.06.94-2.06 2.06-.94-2.06-.94-.94-2.06-.94 2.06-2.06.94z\"/><path d=\"M17.41 7.96l-1.37-1.37c-.4-.4-.92-.59-1.43-.59-.52 0-1.04.2-1.43.59L10.3 9.45l-7.72 7.72c-.78.78-.78 2.05 0 2.83L4 21.41c.39.39.9.59 1.41.59.51 0 1.02-.2 1.41-.59l7.78-7.78 2.81-2.81c.8-.78.8-2.07 0-2.86zM5.41 20L4 18.59l7.72-7.72 1.47 1.35L5.41 20z\"/>\n",
              "  </svg>\n",
              "      </button>\n",
              "      \n",
              "  <style>\n",
              "    .colab-df-container {\n",
              "      display:flex;\n",
              "      flex-wrap:wrap;\n",
              "      gap: 12px;\n",
              "    }\n",
              "\n",
              "    .colab-df-convert {\n",
              "      background-color: #E8F0FE;\n",
              "      border: none;\n",
              "      border-radius: 50%;\n",
              "      cursor: pointer;\n",
              "      display: none;\n",
              "      fill: #1967D2;\n",
              "      height: 32px;\n",
              "      padding: 0 0 0 0;\n",
              "      width: 32px;\n",
              "    }\n",
              "\n",
              "    .colab-df-convert:hover {\n",
              "      background-color: #E2EBFA;\n",
              "      box-shadow: 0px 1px 2px rgba(60, 64, 67, 0.3), 0px 1px 3px 1px rgba(60, 64, 67, 0.15);\n",
              "      fill: #174EA6;\n",
              "    }\n",
              "\n",
              "    [theme=dark] .colab-df-convert {\n",
              "      background-color: #3B4455;\n",
              "      fill: #D2E3FC;\n",
              "    }\n",
              "\n",
              "    [theme=dark] .colab-df-convert:hover {\n",
              "      background-color: #434B5C;\n",
              "      box-shadow: 0px 1px 3px 1px rgba(0, 0, 0, 0.15);\n",
              "      filter: drop-shadow(0px 1px 2px rgba(0, 0, 0, 0.3));\n",
              "      fill: #FFFFFF;\n",
              "    }\n",
              "  </style>\n",
              "\n",
              "      <script>\n",
              "        const buttonEl =\n",
              "          document.querySelector('#df-84ffb262-fa8e-4a92-8e77-960f319a4a04 button.colab-df-convert');\n",
              "        buttonEl.style.display =\n",
              "          google.colab.kernel.accessAllowed ? 'block' : 'none';\n",
              "\n",
              "        async function convertToInteractive(key) {\n",
              "          const element = document.querySelector('#df-84ffb262-fa8e-4a92-8e77-960f319a4a04');\n",
              "          const dataTable =\n",
              "            await google.colab.kernel.invokeFunction('convertToInteractive',\n",
              "                                                     [key], {});\n",
              "          if (!dataTable) return;\n",
              "\n",
              "          const docLinkHtml = 'Like what you see? Visit the ' +\n",
              "            '<a target=\"_blank\" href=https://colab.research.google.com/notebooks/data_table.ipynb>data table notebook</a>'\n",
              "            + ' to learn more about interactive tables.';\n",
              "          element.innerHTML = '';\n",
              "          dataTable['output_type'] = 'display_data';\n",
              "          await google.colab.output.renderOutput(dataTable, element);\n",
              "          const docLink = document.createElement('div');\n",
              "          docLink.innerHTML = docLinkHtml;\n",
              "          element.appendChild(docLink);\n",
              "        }\n",
              "      </script>\n",
              "    </div>\n",
              "  </div>\n",
              "  "
            ]
          },
          "metadata": {},
          "execution_count": 36
        }
      ]
    },
    {
      "cell_type": "code",
      "source": [
        "df_mudah.shape"
      ],
      "metadata": {
        "colab": {
          "base_uri": "https://localhost:8080/"
        },
        "id": "E2Z-jEhLRXax",
        "outputId": "93f0c575-6864-437b-d147-dbba09c1330d"
      },
      "execution_count": null,
      "outputs": [
        {
          "output_type": "execute_result",
          "data": {
            "text/plain": [
              "(120, 6)"
            ]
          },
          "metadata": {},
          "execution_count": 37
        }
      ]
    },
    {
      "cell_type": "code",
      "source": [
        "# Checking data types for attributes\n",
        "df_mudah.dtypes"
      ],
      "metadata": {
        "colab": {
          "base_uri": "https://localhost:8080/"
        },
        "id": "WeJi-L2lmAk9",
        "outputId": "c0c2d026-d4a6-44ce-8168-132e0feeadf9"
      },
      "execution_count": null,
      "outputs": [
        {
          "output_type": "execute_result",
          "data": {
            "text/plain": [
              "Name               object\n",
              "Price               int64\n",
              "Condition          object\n",
              "Mileage            object\n",
              "Engine_Capacity     int64\n",
              "Region             object\n",
              "dtype: object"
            ]
          },
          "metadata": {},
          "execution_count": 38
        }
      ]
    },
    {
      "cell_type": "code",
      "source": [
        "df_mudah.isna().sum()"
      ],
      "metadata": {
        "colab": {
          "base_uri": "https://localhost:8080/"
        },
        "id": "KNdl1kUDpG2e",
        "outputId": "6b42b07a-af15-4e4e-b774-98f69b48551b"
      },
      "execution_count": null,
      "outputs": [
        {
          "output_type": "execute_result",
          "data": {
            "text/plain": [
              "Name               0\n",
              "Price              0\n",
              "Condition          0\n",
              "Mileage            0\n",
              "Engine_Capacity    0\n",
              "Region             0\n",
              "dtype: int64"
            ]
          },
          "metadata": {},
          "execution_count": 39
        }
      ]
    },
    {
      "cell_type": "markdown",
      "source": [
        "~ Data Processing ~"
      ],
      "metadata": {
        "id": "VJ2aNEkGROcm"
      }
    },
    {
      "cell_type": "code",
      "source": [
        "# Duplicating dataframe\n",
        "df_mudah_cleaned = df_mudah\n",
        "df_mudah_cleaned.head()"
      ],
      "metadata": {
        "id": "UbDzxXkKxcK1",
        "colab": {
          "base_uri": "https://localhost:8080/",
          "height": 206
        },
        "outputId": "6f40eeb8-b1ec-4baf-a762-b2a48300af85"
      },
      "execution_count": null,
      "outputs": [
        {
          "output_type": "execute_result",
          "data": {
            "text/plain": [
              "                                                Name  Price Condition  \\\n",
              "0     2014-Ford RANGER 2.2 XLT 4WD(A)Kedai/Bank/Cash  56990      Used   \n",
              "1  FULL LOAN Toyota VIOS 1.5 TRD SPORTIVO (A) LEA...  42999      Used   \n",
              "2         FULL LOAN Toyota VIOS 1.5 TRD SPORTIVO (A)  40999      Used   \n",
              "3         FULL LOAN Honda CIVIC 2.0 (A) FULL LEATHER  48999      Used   \n",
              "4      FULL LOAN Nissan X-TRAIL 2.0 (A) LEATHER SEAT  58999      Used   \n",
              "\n",
              "         Mileage  Engine_Capacity    Region  \n",
              "0  75000 - 79999             2198  Selangor  \n",
              "1  95000 - 99999             1497     Johor  \n",
              "2  85000 - 89999             1497     Johor  \n",
              "3  95000 - 99999             1997     Johor  \n",
              "4  85000 - 89999             1997     Johor  "
            ],
            "text/html": [
              "\n",
              "  <div id=\"df-966c7e68-f62a-4d9c-9737-6732e7678ca3\">\n",
              "    <div class=\"colab-df-container\">\n",
              "      <div>\n",
              "<style scoped>\n",
              "    .dataframe tbody tr th:only-of-type {\n",
              "        vertical-align: middle;\n",
              "    }\n",
              "\n",
              "    .dataframe tbody tr th {\n",
              "        vertical-align: top;\n",
              "    }\n",
              "\n",
              "    .dataframe thead th {\n",
              "        text-align: right;\n",
              "    }\n",
              "</style>\n",
              "<table border=\"1\" class=\"dataframe\">\n",
              "  <thead>\n",
              "    <tr style=\"text-align: right;\">\n",
              "      <th></th>\n",
              "      <th>Name</th>\n",
              "      <th>Price</th>\n",
              "      <th>Condition</th>\n",
              "      <th>Mileage</th>\n",
              "      <th>Engine_Capacity</th>\n",
              "      <th>Region</th>\n",
              "    </tr>\n",
              "  </thead>\n",
              "  <tbody>\n",
              "    <tr>\n",
              "      <th>0</th>\n",
              "      <td>2014-Ford RANGER 2.2 XLT 4WD(A)Kedai/Bank/Cash</td>\n",
              "      <td>56990</td>\n",
              "      <td>Used</td>\n",
              "      <td>75000 - 79999</td>\n",
              "      <td>2198</td>\n",
              "      <td>Selangor</td>\n",
              "    </tr>\n",
              "    <tr>\n",
              "      <th>1</th>\n",
              "      <td>FULL LOAN Toyota VIOS 1.5 TRD SPORTIVO (A) LEA...</td>\n",
              "      <td>42999</td>\n",
              "      <td>Used</td>\n",
              "      <td>95000 - 99999</td>\n",
              "      <td>1497</td>\n",
              "      <td>Johor</td>\n",
              "    </tr>\n",
              "    <tr>\n",
              "      <th>2</th>\n",
              "      <td>FULL LOAN Toyota VIOS 1.5 TRD SPORTIVO (A)</td>\n",
              "      <td>40999</td>\n",
              "      <td>Used</td>\n",
              "      <td>85000 - 89999</td>\n",
              "      <td>1497</td>\n",
              "      <td>Johor</td>\n",
              "    </tr>\n",
              "    <tr>\n",
              "      <th>3</th>\n",
              "      <td>FULL LOAN Honda CIVIC 2.0 (A) FULL LEATHER</td>\n",
              "      <td>48999</td>\n",
              "      <td>Used</td>\n",
              "      <td>95000 - 99999</td>\n",
              "      <td>1997</td>\n",
              "      <td>Johor</td>\n",
              "    </tr>\n",
              "    <tr>\n",
              "      <th>4</th>\n",
              "      <td>FULL LOAN Nissan X-TRAIL 2.0 (A) LEATHER SEAT</td>\n",
              "      <td>58999</td>\n",
              "      <td>Used</td>\n",
              "      <td>85000 - 89999</td>\n",
              "      <td>1997</td>\n",
              "      <td>Johor</td>\n",
              "    </tr>\n",
              "  </tbody>\n",
              "</table>\n",
              "</div>\n",
              "      <button class=\"colab-df-convert\" onclick=\"convertToInteractive('df-966c7e68-f62a-4d9c-9737-6732e7678ca3')\"\n",
              "              title=\"Convert this dataframe to an interactive table.\"\n",
              "              style=\"display:none;\">\n",
              "        \n",
              "  <svg xmlns=\"http://www.w3.org/2000/svg\" height=\"24px\"viewBox=\"0 0 24 24\"\n",
              "       width=\"24px\">\n",
              "    <path d=\"M0 0h24v24H0V0z\" fill=\"none\"/>\n",
              "    <path d=\"M18.56 5.44l.94 2.06.94-2.06 2.06-.94-2.06-.94-.94-2.06-.94 2.06-2.06.94zm-11 1L8.5 8.5l.94-2.06 2.06-.94-2.06-.94L8.5 2.5l-.94 2.06-2.06.94zm10 10l.94 2.06.94-2.06 2.06-.94-2.06-.94-.94-2.06-.94 2.06-2.06.94z\"/><path d=\"M17.41 7.96l-1.37-1.37c-.4-.4-.92-.59-1.43-.59-.52 0-1.04.2-1.43.59L10.3 9.45l-7.72 7.72c-.78.78-.78 2.05 0 2.83L4 21.41c.39.39.9.59 1.41.59.51 0 1.02-.2 1.41-.59l7.78-7.78 2.81-2.81c.8-.78.8-2.07 0-2.86zM5.41 20L4 18.59l7.72-7.72 1.47 1.35L5.41 20z\"/>\n",
              "  </svg>\n",
              "      </button>\n",
              "      \n",
              "  <style>\n",
              "    .colab-df-container {\n",
              "      display:flex;\n",
              "      flex-wrap:wrap;\n",
              "      gap: 12px;\n",
              "    }\n",
              "\n",
              "    .colab-df-convert {\n",
              "      background-color: #E8F0FE;\n",
              "      border: none;\n",
              "      border-radius: 50%;\n",
              "      cursor: pointer;\n",
              "      display: none;\n",
              "      fill: #1967D2;\n",
              "      height: 32px;\n",
              "      padding: 0 0 0 0;\n",
              "      width: 32px;\n",
              "    }\n",
              "\n",
              "    .colab-df-convert:hover {\n",
              "      background-color: #E2EBFA;\n",
              "      box-shadow: 0px 1px 2px rgba(60, 64, 67, 0.3), 0px 1px 3px 1px rgba(60, 64, 67, 0.15);\n",
              "      fill: #174EA6;\n",
              "    }\n",
              "\n",
              "    [theme=dark] .colab-df-convert {\n",
              "      background-color: #3B4455;\n",
              "      fill: #D2E3FC;\n",
              "    }\n",
              "\n",
              "    [theme=dark] .colab-df-convert:hover {\n",
              "      background-color: #434B5C;\n",
              "      box-shadow: 0px 1px 3px 1px rgba(0, 0, 0, 0.15);\n",
              "      filter: drop-shadow(0px 1px 2px rgba(0, 0, 0, 0.3));\n",
              "      fill: #FFFFFF;\n",
              "    }\n",
              "  </style>\n",
              "\n",
              "      <script>\n",
              "        const buttonEl =\n",
              "          document.querySelector('#df-966c7e68-f62a-4d9c-9737-6732e7678ca3 button.colab-df-convert');\n",
              "        buttonEl.style.display =\n",
              "          google.colab.kernel.accessAllowed ? 'block' : 'none';\n",
              "\n",
              "        async function convertToInteractive(key) {\n",
              "          const element = document.querySelector('#df-966c7e68-f62a-4d9c-9737-6732e7678ca3');\n",
              "          const dataTable =\n",
              "            await google.colab.kernel.invokeFunction('convertToInteractive',\n",
              "                                                     [key], {});\n",
              "          if (!dataTable) return;\n",
              "\n",
              "          const docLinkHtml = 'Like what you see? Visit the ' +\n",
              "            '<a target=\"_blank\" href=https://colab.research.google.com/notebooks/data_table.ipynb>data table notebook</a>'\n",
              "            + ' to learn more about interactive tables.';\n",
              "          element.innerHTML = '';\n",
              "          dataTable['output_type'] = 'display_data';\n",
              "          await google.colab.output.renderOutput(dataTable, element);\n",
              "          const docLink = document.createElement('div');\n",
              "          docLink.innerHTML = docLinkHtml;\n",
              "          element.appendChild(docLink);\n",
              "        }\n",
              "      </script>\n",
              "    </div>\n",
              "  </div>\n",
              "  "
            ]
          },
          "metadata": {},
          "execution_count": 40
        }
      ]
    },
    {
      "cell_type": "code",
      "source": [
        "# Changing object attribute to String\n",
        "df_mudah_cleaned['Name'] = df_mudah_cleaned['Name'].astype('string')\n",
        "df_mudah_cleaned['Condition'] = df_mudah_cleaned['Condition'].astype('string')\n",
        "df_mudah_cleaned['Mileage'] = df_mudah_cleaned['Mileage'].astype('string')\n",
        "df_mudah_cleaned['Region'] = df_mudah_cleaned['Region'].astype('string')\n",
        "\n",
        "df_mudah_cleaned.dtypes"
      ],
      "metadata": {
        "colab": {
          "base_uri": "https://localhost:8080/"
        },
        "id": "6OuAfvKLRmT6",
        "outputId": "0161a3cb-121f-419e-f510-f47b97a02a1b"
      },
      "execution_count": null,
      "outputs": [
        {
          "output_type": "execute_result",
          "data": {
            "text/plain": [
              "Name               string\n",
              "Price               int64\n",
              "Condition          string\n",
              "Mileage            string\n",
              "Engine_Capacity     int64\n",
              "Region             string\n",
              "dtype: object"
            ]
          },
          "metadata": {},
          "execution_count": 41
        }
      ]
    },
    {
      "cell_type": "code",
      "source": [
        "# Replacing data in Condition into numeric\n",
        "df_mudah_cleaned['Condition'].replace(['New', 'Used', 'Recon'], [0, 1, 2], inplace=True)"
      ],
      "metadata": {
        "id": "nIH1zwmboum0"
      },
      "execution_count": null,
      "outputs": []
    },
    {
      "cell_type": "code",
      "source": [
        "# Separating Mileage into starting mileage range and end mileage range\n",
        "df_mudah_cleaned[['startMile', 'endMile']] = df_mudah_cleaned.Mileage.str.split(\" - \", expand = True)\n",
        "df_mudah_cleaned[['startMile', 'endMile']] = df_mudah_cleaned[['startMile', 'endMile']].astype(int)\n",
        "\n",
        "# Dropping Mileage attribute\n",
        "df_mudah_cleaned = df_mudah_cleaned.drop(\"Mileage\", axis=1)"
      ],
      "metadata": {
        "id": "w-1nXRsNUwTf"
      },
      "execution_count": null,
      "outputs": []
    },
    {
      "cell_type": "code",
      "source": [
        "df_mudah_cleaned.dtypes"
      ],
      "metadata": {
        "colab": {
          "base_uri": "https://localhost:8080/"
        },
        "id": "iAc8XVwArNrn",
        "outputId": "1405dee2-cbbf-4ae9-a46f-61ccf5d8a3c5"
      },
      "execution_count": null,
      "outputs": [
        {
          "output_type": "execute_result",
          "data": {
            "text/plain": [
              "Name               string\n",
              "Price               int64\n",
              "Condition           int64\n",
              "Engine_Capacity     int64\n",
              "Region             string\n",
              "startMile           int64\n",
              "endMile             int64\n",
              "dtype: object"
            ]
          },
          "metadata": {},
          "execution_count": 44
        }
      ]
    },
    {
      "cell_type": "markdown",
      "source": [
        "**~ Data Visualization ~**"
      ],
      "metadata": {
        "id": "v6HK_7BYVUMm"
      }
    },
    {
      "cell_type": "code",
      "source": [
        "import matplotlib.pyplot as plt"
      ],
      "metadata": {
        "id": "-71inYYgVYv4"
      },
      "execution_count": null,
      "outputs": []
    },
    {
      "cell_type": "code",
      "source": [
        "# Price range of a car\n",
        "df_mudah_cleaned['Price'].plot(kind='box', vert=False, figsize=(8,4))"
      ],
      "metadata": {
        "colab": {
          "base_uri": "https://localhost:8080/",
          "height": 282
        },
        "id": "xvwqBdM8VfuS",
        "outputId": "5f0bbac3-a1e9-4360-8101-914b54e67adc"
      },
      "execution_count": null,
      "outputs": [
        {
          "output_type": "execute_result",
          "data": {
            "text/plain": [
              "<matplotlib.axes._subplots.AxesSubplot at 0x7ffa82f412e0>"
            ]
          },
          "metadata": {},
          "execution_count": 46
        },
        {
          "output_type": "display_data",
          "data": {
            "text/plain": [
              "<Figure size 576x288 with 1 Axes>"
            ],
            "image/png": "[encoded data removed]"
          },
          "metadata": {
            "needs_background": "light"
          }
        }
      ]
    },
    {
      "cell_type": "code",
      "source": [
        "# Cars condition\n",
        "df_mudah_cleaned['Condition'].value_counts().plot(kind='bar' , figsize=(10, 6), color='lightgreen')\n",
        "plt.title('Number of Cars by Condition')\n",
        "plt.xlabel('Type of Cars Condition')\n",
        "plt.ylabel('Number of Cars')"
      ],
      "metadata": {
        "colab": {
          "base_uri": "https://localhost:8080/",
          "height": 417
        },
        "id": "HOi-D8fSVmLY",
        "outputId": "1ac3564f-a121-4db9-a107-8652a9a4ef9e"
      },
      "execution_count": null,
      "outputs": [
        {
          "output_type": "execute_result",
          "data": {
            "text/plain": [
              "Text(0, 0.5, 'Number of Cars')"
            ]
          },
          "metadata": {},
          "execution_count": 47
        },
        {
          "output_type": "display_data",
          "data": {
            "text/plain": [
              "<Figure size 720x432 with 1 Axes>"
            ],
            "image/png": "[encoded data removed]"
          },
          "metadata": {
            "needs_background": "light"
          }
        }
      ]
    },
    {
      "cell_type": "code",
      "source": [
        "# Cars region\n",
        "df_mudah_cleaned['Region'].value_counts().plot(kind='bar', figsize=(10, 6), color='m')\n",
        "plt.title('Cars by State')\n",
        "plt.xlabel('State')\n",
        "plt.ylabel('Number of Cars')"
      ],
      "metadata": {
        "colab": {
          "base_uri": "https://localhost:8080/",
          "height": 494
        },
        "id": "b9msugIOWdNa",
        "outputId": "f6697aa3-4821-43d5-f4e0-8357fa14ba8f"
      },
      "execution_count": null,
      "outputs": [
        {
          "output_type": "execute_result",
          "data": {
            "text/plain": [
              "Text(0, 0.5, 'Number of Cars')"
            ]
          },
          "metadata": {},
          "execution_count": 48
        },
        {
          "output_type": "display_data",
          "data": {
            "text/plain": [
              "<Figure size 720x432 with 1 Axes>"
            ],
            "image/png": "[encoded data removed]"
          },
          "metadata": {
            "needs_background": "light"
          }
        }
      ]
    },
    {
      "cell_type": "code",
      "source": [
        "#Engine Capacity\n",
        "\n",
        "df_mudah.boxplot(column='Engine_Capacity')\n",
        "plt.title(\"Boxplot for Engine Capacity\")"
      ],
      "metadata": {
        "colab": {
          "base_uri": "https://localhost:8080/",
          "height": 299
        },
        "id": "uqDbWivXqdh5",
        "outputId": "c9b8d0b2-0e84-4f0e-d59b-e8b80cea24d8"
      },
      "execution_count": null,
      "outputs": [
        {
          "output_type": "execute_result",
          "data": {
            "text/plain": [
              "Text(0.5, 1.0, 'Boxplot for Engine Capacity')"
            ]
          },
          "metadata": {},
          "execution_count": 51
        },
        {
          "output_type": "display_data",
          "data": {
            "text/plain": [
              "<Figure size 432x288 with 1 Axes>"
            ],
            "image/png": "[encoded data removed]"
          },
          "metadata": {
            "needs_background": "light"
          }
        }
      ]
    },
    {
      "cell_type": "markdown",
      "source": [
        "### **Load - 2 pt**\n",
        "\n",
        "Save your clean data into any types of file ( e.g .csv ) that can be read by pandas."
      ],
      "metadata": {
        "id": "op5JcIajotrF"
      }
    },
    {
      "cell_type": "code",
      "source": [
        "df_mudah_cleaned.to_csv('cleaned_mudah_car.csv', mode='w', index=False, header=True)"
      ],
      "metadata": {
        "id": "3WcEjKCdx3u_"
      },
      "execution_count": null,
      "outputs": []
    }
  ]
}